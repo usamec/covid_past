{
 "cells": [
  {
   "cell_type": "code",
   "execution_count": 1,
   "metadata": {},
   "outputs": [
    {
     "data": {
      "text/plain": [
       "([datetime.date(2020, 2, 20),\n",
       "  datetime.date(2020, 2, 21),\n",
       "  datetime.date(2020, 2, 22),\n",
       "  datetime.date(2020, 2, 23),\n",
       "  datetime.date(2020, 2, 24),\n",
       "  datetime.date(2020, 2, 25),\n",
       "  datetime.date(2020, 2, 26),\n",
       "  datetime.date(2020, 2, 27),\n",
       "  datetime.date(2020, 2, 28),\n",
       "  datetime.date(2020, 2, 29),\n",
       "  datetime.date(2020, 3, 1),\n",
       "  datetime.date(2020, 3, 2),\n",
       "  datetime.date(2020, 3, 3),\n",
       "  datetime.date(2020, 3, 4),\n",
       "  datetime.date(2020, 3, 5),\n",
       "  datetime.date(2020, 3, 6),\n",
       "  datetime.date(2020, 3, 7),\n",
       "  datetime.date(2020, 3, 8),\n",
       "  datetime.date(2020, 3, 9),\n",
       "  datetime.date(2020, 3, 10),\n",
       "  datetime.date(2020, 3, 11),\n",
       "  datetime.date(2020, 3, 12),\n",
       "  datetime.date(2020, 3, 13),\n",
       "  datetime.date(2020, 3, 14),\n",
       "  datetime.date(2020, 3, 15),\n",
       "  datetime.date(2020, 3, 16),\n",
       "  datetime.date(2020, 3, 17),\n",
       "  datetime.date(2020, 3, 18),\n",
       "  datetime.date(2020, 3, 19),\n",
       "  datetime.date(2020, 3, 20),\n",
       "  datetime.date(2020, 3, 21)],\n",
       " [(0, 0),\n",
       "  (1, 0),\n",
       "  (2, 0),\n",
       "  (3, 0),\n",
       "  (4, 0),\n",
       "  (5, 0),\n",
       "  (6, 0),\n",
       "  (7, 0),\n",
       "  (8, 0),\n",
       "  (9, 0),\n",
       "  (10, 0),\n",
       "  (11, 0),\n",
       "  (12, 0),\n",
       "  (13, 0),\n",
       "  (14, 0),\n",
       "  (15, 0),\n",
       "  (16, 0),\n",
       "  (17, 1),\n",
       "  (18, 1),\n",
       "  (19, 1),\n",
       "  (20, 1),\n",
       "  (21, 1),\n",
       "  (22, 0),\n",
       "  (23, 0),\n",
       "  (24, 0),\n",
       "  (25, 0),\n",
       "  (26, 0),\n",
       "  (27, 0),\n",
       "  (28, 0),\n",
       "  (29, 0),\n",
       "  (30, 0)])"
      ]
     },
     "execution_count": 1,
     "metadata": {},
     "output_type": "execute_result"
    }
   ],
   "source": [
    "import datetime\n",
    "SK_CASES_BY_DAY =   [0,0,0,0,0,0,0,0,0,0,0,0,0,0,1,2,2,2,0,3,11,11,12,17,11,25,8,19,14,41,7]\n",
    "INTERVENTION_DAYS = [0,0,0,0,0,0,0,0,0,0,0,0,0,0,0,0,0,1,1,1, 1, 1, 0, 0, 0, 0,0, 0, 0, 0,0]\n",
    "DATES = [datetime.date(2020,3,21) - datetime.timedelta(days=len(SK_CASES_BY_DAY)-i-1) for i in range(len(SK_CASES_BY_DAY))]\n",
    "\n",
    "DATES, list(enumerate(INTERVENTION_DAYS))"
   ]
  },
  {
   "cell_type": "code",
   "execution_count": 2,
   "metadata": {},
   "outputs": [],
   "source": [
    "INTER_START = 17\n",
    "INTER_END = 22"
   ]
  },
  {
   "cell_type": "code",
   "execution_count": 3,
   "metadata": {},
   "outputs": [
    {
     "name": "stderr",
     "output_type": "stream",
     "text": [
      "\n",
      "Bad key \"text.kerning_factor\" on line 4 in\n",
      "/home/usamec/anaconda3/envs/covid/lib/python3.6/site-packages/matplotlib/mpl-data/stylelib/_classic_test_patch.mplstyle.\n",
      "You probably need to get an updated matplotlibrc file from\n",
      "https://github.com/matplotlib/matplotlib/blob/v3.1.3/matplotlibrc.template\n",
      "or from the matplotlib source distribution\n"
     ]
    }
   ],
   "source": [
    "%matplotlib inline"
   ]
  },
  {
   "cell_type": "code",
   "execution_count": 4,
   "metadata": {},
   "outputs": [],
   "source": [
    "import pymc3 as pm\n",
    "import numpy as np\n",
    "import theano\n",
    "import seaborn as sns\n",
    "import matplotlib.pyplot as plt\n",
    "import matplotlib.colors as mcolors"
   ]
  },
  {
   "cell_type": "code",
   "execution_count": 5,
   "metadata": {},
   "outputs": [
    {
     "name": "stdout",
     "output_type": "stream",
     "text": [
      "o3\n"
     ]
    }
   ],
   "source": [
    "# optimization should be o3 here, otherwise things will get slow\n",
    "# use \n",
    "# export THEANO_FLAGS='optimizer=o3'\n",
    "print(theano.config.optimizer)"
   ]
  },
  {
   "cell_type": "code",
   "execution_count": 30,
   "metadata": {},
   "outputs": [],
   "source": [
    "def run_simul(cases, interventions, import_mean=5, import_std=5, beta_std_factor=2, obs_kernel=[0,0,0,0,1,2,3,4,5,4,3,2,1]):\n",
    "    \"\"\"\n",
    "    cases - number of reported cases for each day \n",
    "    intervetions - 1 if there was interventions, 0 otherwise for each day\n",
    "    intervention_alpha - alpha cooeficient in Beta distribution for intervention (higger value, means that interventions are weaker)\n",
    "    import_mean, import_std - mean and std for imported cases\n",
    "    beta_std_factor - deviation for rate of new local infections\n",
    "    obs_kernel - transformation vector for real case to observations (how many cases are seen at day I, I+1, I+2, ...)\n",
    "    \"\"\"\n",
    "    with pm.Model() as model:\n",
    "        beta_start = pm.Uniform('beta_start', 0.2, 0.4)\n",
    "        beta_end = pm.Uniform('beta_end', 0.0, beta_start)\n",
    "        beta = beta_start # R0 = beta/gamma (podla SIR modelu)\n",
    "        gamma = 0.1\n",
    "        infected = 0\n",
    "\n",
    "        daily_cases = []\n",
    "        betas = []\n",
    "\n",
    "        for day in range(len(cases)):\n",
    "            if day < INTER_START:\n",
    "                beta = pm.Deterministic('beta_%s' % day, beta_start)\n",
    "            elif day < INTER_END:\n",
    "                beta = pm.Uniform('beta_%s' % day, beta_end, beta_start)\n",
    "            else:\n",
    "                beta = pm.Deterministic('beta_%s' % day, beta_end)\n",
    "            \n",
    "            imported_cases = pm.TruncatedNormal('day_import_%s' % day, import_mean, import_std, lower=0) # another wildass guess\n",
    "            betas.append(beta)\n",
    "            \n",
    "            beta_lower = beta - beta / beta_std_factor\n",
    "            beta_upper = beta + beta / beta_std_factor\n",
    "            #print(beta_std_factor)\n",
    "            # this is not ideal, but should not matter much\n",
    "            daily_beta = pm.Uniform('day_beta_%s' % day, beta_lower, beta_upper)\n",
    "\n",
    "            new_local_infections = infected * daily_beta # We assume infinite population (SIR model multiplies this with susceptible / total pop.)\n",
    "            today = pm.Deterministic('day_%s' % day, imported_cases + new_local_infections)\n",
    "            today_recovered = infected * gamma\n",
    "            infected = infected + today - today_recovered\n",
    "            daily_cases.append(today)\n",
    "\n",
    "        # and now delayed and shitty reporting\n",
    "        daily_stacked = pm.Deterministic('daily', pm.math.stack(daily_cases))\n",
    "        betas_stacked = pm.Deterministic('betas', pm.math.stack(betas))\n",
    "        R = pm.Deterministic('R', betas_stacked / gamma)\n",
    "        kernel = np.array(obs_kernel, dtype=np.float32)\n",
    "        kernel /= np.sum(kernel)\n",
    "        shift = np.zeros((len(daily_cases), len(daily_cases)+len(kernel)))\n",
    "        for i in range(len(daily_cases)):\n",
    "            shift[i,i:i+len(kernel)] = kernel\n",
    "        #print(shift)\n",
    "        expected_observed = pm.Deterministic('exp_obs', pm.math.dot(daily_stacked, shift))[:-len(kernel)]\n",
    "        # division by 6 just for shitty reporting (and maybe here poisson distribution is bad idea)\n",
    "        observed = pm.Poisson('obs', mu=expected_observed / 6.0, observed=cases)\n",
    "\n",
    "\n",
    "        trace = pm.sample(2000, chains=4, cores=2)\n",
    "        return trace"
   ]
  },
  {
   "cell_type": "code",
   "execution_count": 31,
   "metadata": {},
   "outputs": [],
   "source": [
    "\"\"\"\n",
    "My observations about parameters:\n",
    "- lenght of kernel sort of matters, concrete values not that much\n",
    "- import_mean and import_std should be high enough otherwise, model that to have high starting R\n",
    "\"\"\"\n",
    "settings = [\n",
    "    (8, 8, 4, (0,0,0,0,1,2,3,3,3,3,3,3,3,2,1)),\n",
    "    (8, 32, 4, (0,0,0,0,1,2,3,3,3,3,3,3,3,2,1)),\n",
    "]"
   ]
  },
  {
   "cell_type": "code",
   "execution_count": 32,
   "metadata": {},
   "outputs": [
    {
     "name": "stdout",
     "output_type": "stream",
     "text": [
      "(8, 8, 4, (0, 0, 0, 0, 1, 2, 3, 3, 3, 3, 3, 3, 3, 2, 1))\n"
     ]
    },
    {
     "name": "stderr",
     "output_type": "stream",
     "text": [
      "Auto-assigning NUTS sampler...\n",
      "Initializing NUTS using jitter+adapt_diag...\n",
      "Multiprocess sampling (4 chains in 2 jobs)\n",
      "NUTS: [day_beta_30, day_import_30, day_beta_29, day_import_29, day_beta_28, day_import_28, day_beta_27, day_import_27, day_beta_26, day_import_26, day_beta_25, day_import_25, day_beta_24, day_import_24, day_beta_23, day_import_23, day_beta_22, day_import_22, day_beta_21, day_import_21, beta_21, day_beta_20, day_import_20, beta_20, day_beta_19, day_import_19, beta_19, day_beta_18, day_import_18, beta_18, day_beta_17, day_import_17, beta_17, day_beta_16, day_import_16, day_beta_15, day_import_15, day_beta_14, day_import_14, day_beta_13, day_import_13, day_beta_12, day_import_12, day_beta_11, day_import_11, day_beta_10, day_import_10, day_beta_9, day_import_9, day_beta_8, day_import_8, day_beta_7, day_import_7, day_beta_6, day_import_6, day_beta_5, day_import_5, day_beta_4, day_import_4, day_beta_3, day_import_3, day_beta_2, day_import_2, day_beta_1, day_import_1, day_beta_0, day_import_0, beta_end, beta_start]\n",
      "Sampling 4 chains, 0 divergences: 100%|██████████| 10000/10000 [04:56<00:00, 33.69draws/s]\n"
     ]
    },
    {
     "name": "stdout",
     "output_type": "stream",
     "text": [
      "(8, 32, 4, (0, 0, 0, 0, 1, 2, 3, 3, 3, 3, 3, 3, 3, 2, 1))\n"
     ]
    },
    {
     "name": "stderr",
     "output_type": "stream",
     "text": [
      "Auto-assigning NUTS sampler...\n",
      "Initializing NUTS using jitter+adapt_diag...\n",
      "Multiprocess sampling (4 chains in 2 jobs)\n",
      "NUTS: [day_beta_30, day_import_30, day_beta_29, day_import_29, day_beta_28, day_import_28, day_beta_27, day_import_27, day_beta_26, day_import_26, day_beta_25, day_import_25, day_beta_24, day_import_24, day_beta_23, day_import_23, day_beta_22, day_import_22, day_beta_21, day_import_21, beta_21, day_beta_20, day_import_20, beta_20, day_beta_19, day_import_19, beta_19, day_beta_18, day_import_18, beta_18, day_beta_17, day_import_17, beta_17, day_beta_16, day_import_16, day_beta_15, day_import_15, day_beta_14, day_import_14, day_beta_13, day_import_13, day_beta_12, day_import_12, day_beta_11, day_import_11, day_beta_10, day_import_10, day_beta_9, day_import_9, day_beta_8, day_import_8, day_beta_7, day_import_7, day_beta_6, day_import_6, day_beta_5, day_import_5, day_beta_4, day_import_4, day_beta_3, day_import_3, day_beta_2, day_import_2, day_beta_1, day_import_1, day_beta_0, day_import_0, beta_end, beta_start]\n",
      "Sampling 4 chains, 0 divergences: 100%|██████████| 10000/10000 [04:39<00:00, 35.80draws/s]\n"
     ]
    }
   ],
   "source": [
    "new_results2 = {}\n",
    "for s in settings:\n",
    "    print(s)\n",
    "    new_results2[s] = run_simul(SK_CASES_BY_DAY, INTERVENTION_DAYS, *s)"
   ]
  },
  {
   "cell_type": "code",
   "execution_count": 33,
   "metadata": {},
   "outputs": [],
   "source": [
    "plt.rcParams['figure.figsize'] = [10, 5]"
   ]
  },
  {
   "cell_type": "code",
   "execution_count": 34,
   "metadata": {},
   "outputs": [],
   "source": [
    "def plot_trace(trace, key, label, color, alpha75=0.1, alpha95=0.1):\n",
    "    our_dates = DATES[:trace[key].shape[1]]\n",
    "    plt.plot(our_dates, np.median(trace[key], axis=0), label=label, color=color)\n",
    "    plt.fill_between(our_dates, np.percentile(trace[key], 2.5, axis=0), np.percentile(trace[key], 97.5, axis=0), alpha=alpha95,  color=color)\n",
    "    plt.fill_between(our_dates, np.percentile(trace[key], 25, axis=0), np.percentile(trace[key], 75, axis=0), alpha=alpha75,  color=color)\n"
   ]
  },
  {
   "cell_type": "code",
   "execution_count": 23,
   "metadata": {},
   "outputs": [
    {
     "data": {
      "text/plain": [
       "'tab:blue'"
      ]
     },
     "execution_count": 23,
     "metadata": {},
     "output_type": "execute_result"
    }
   ],
   "source": [
    "colors = list(mcolors.TABLEAU_COLORS.keys())\n",
    "colors[0]"
   ]
  },
  {
   "cell_type": "code",
   "execution_count": 36,
   "metadata": {},
   "outputs": [
    {
     "name": "stderr",
     "output_type": "stream",
     "text": [
      "/home/usamec/anaconda3/envs/covid/lib/python3.6/site-packages/ipykernel_launcher.py:5: MatplotlibDeprecationWarning: Adding an axes using the same arguments as a previous axes currently reuses the earlier instance.  In a future version, a new instance will always be created and returned.  Meanwhile, this warning can be suppressed, and the future behavior ensured, by passing a unique label to each axes instance.\n",
      "  \"\"\"\n"
     ]
    },
    {
     "data": {
      "image/png": "[encoded data removed]",
      "text/plain": [
       "<Figure size 720x360 with 1 Axes>"
      ]
     },
     "metadata": {
      "needs_background": "light"
     },
     "output_type": "display_data"
    }
   ],
   "source": [
    "for i, (x, trace) in enumerate(new_results2.items()):\n",
    "    plot_trace(trace, \"R\", label=str(x), color=colors[i], alpha75=0, alpha95=0.05)\n",
    "plt.grid(True)\n",
    "plt.legend()\n",
    "for l in plt.axes().get_xticklabels():\n",
    "    l.set_rotation(45)\n",
    "    l.set_horizontalalignment('right')"
   ]
  },
  {
   "cell_type": "code",
   "execution_count": 38,
   "metadata": {},
   "outputs": [
    {
     "name": "stderr",
     "output_type": "stream",
     "text": [
      "/home/usamec/anaconda3/envs/covid/lib/python3.6/site-packages/ipykernel_launcher.py:7: MatplotlibDeprecationWarning: Adding an axes using the same arguments as a previous axes currently reuses the earlier instance.  In a future version, a new instance will always be created and returned.  Meanwhile, this warning can be suppressed, and the future behavior ensured, by passing a unique label to each axes instance.\n",
      "  import sys\n"
     ]
    },
    {
     "data": {
      "image/png": "[encoded data removed]",
      "text/plain": [
       "<Figure size 720x360 with 1 Axes>"
      ]
     },
     "metadata": {
      "needs_background": "light"
     },
     "output_type": "display_data"
    }
   ],
   "source": [
    "for i, (x, trace) in enumerate(new_results2x.items()):\n",
    "    plot_trace(trace, \"daily\", label=str(x), color=colors[i], alpha75=0.0, alpha95=0.05)\n",
    "plt.grid(True)\n",
    "plt.bar(DATES, (SK_CASES_BY_DAY), label=\"reported cases\", color=\"green\")\n",
    "#plt.yscale(\"log\")\n",
    "plt.ylabel(\"Denne nove pripady\")\n",
    "for l in plt.axes().get_xticklabels():\n",
    "    l.set_rotation(45)\n",
    "    l.set_horizontalalignment('right')"
   ]
  },
  {
   "cell_type": "code",
   "execution_count": 27,
   "metadata": {},
   "outputs": [
    {
     "data": {
      "text/plain": [
       "(16000, 31)"
      ]
     },
     "execution_count": 27,
     "metadata": {},
     "output_type": "execute_result"
    }
   ],
   "source": [
    "all_Rs = np.vstack([trace[\"R\"] for trace in new_results2x.values()])\n",
    "all_Rs.shape"
   ]
  },
  {
   "cell_type": "code",
   "execution_count": 28,
   "metadata": {},
   "outputs": [
    {
     "data": {
      "text/plain": [
       "(2.020741240405434,\n",
       " 2.2204302880776474,\n",
       " 2.4422255985888723,\n",
       " 2.680110708991434,\n",
       " 3.1084406040672166)"
      ]
     },
     "execution_count": 28,
     "metadata": {},
     "output_type": "execute_result"
    }
   ],
   "source": [
    "# starting R\n",
    "np.percentile(all_Rs, 2.5, axis=0)[0], np.percentile(all_Rs, 25, axis=0)[0], np.percentile(all_Rs, 50, axis=0)[0], np.percentile(all_Rs, 75, axis=0)[0], np.percentile(all_Rs, 97.5, axis=0)[0]"
   ]
  },
  {
   "cell_type": "code",
   "execution_count": 29,
   "metadata": {},
   "outputs": [
    {
     "data": {
      "text/plain": [
       "(0.2827082138351934,\n",
       " 0.8902986708020421,\n",
       " 1.2284039849430635,\n",
       " 1.5789160628564773,\n",
       " 2.1311473746005336)"
      ]
     },
     "execution_count": 29,
     "metadata": {},
     "output_type": "execute_result"
    }
   ],
   "source": [
    "# final R\n",
    "np.percentile(all_Rs, 2.5, axis=0)[-1], np.percentile(all_Rs, 25, axis=0)[-1], np.percentile(all_Rs, 50, axis=0)[-1], np.percentile(all_Rs, 75, axis=0)[-1], np.percentile(all_Rs, 97.5, axis=0)[-1]"
   ]
  },
  {
   "cell_type": "code",
   "execution_count": null,
   "metadata": {},
   "outputs": [],
   "source": []
  }
 ],
 "metadata": {
  "kernelspec": {
   "display_name": "Python 3",
   "language": "python",
   "name": "python3"
  },
  "language_info": {
   "codemirror_mode": {
    "name": "ipython",
    "version": 3
   },
   "file_extension": ".py",
   "mimetype": "text/x-python",
   "name": "python",
   "nbconvert_exporter": "python",
   "pygments_lexer": "ipython3",
   "version": "3.6.10"
  }
 },
 "nbformat": 4,
 "nbformat_minor": 4
}
